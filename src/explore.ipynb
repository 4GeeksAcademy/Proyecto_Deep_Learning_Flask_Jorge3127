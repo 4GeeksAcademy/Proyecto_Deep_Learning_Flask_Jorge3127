{
    "cells": [
        {
            "cell_type": "markdown",
            "metadata": {},
            "source": [
                "# Explore here"
            ]
        },
        {
            "cell_type": "code",
            "execution_count": 1,
            "metadata": {},
            "outputs": [
                {
                    "name": "stdout",
                    "output_type": "stream",
                    "text": [
                        "El archivo /workspaces/Proyecto_Deep_Learning_Flask_Jorge3127/models/modelo_adaboost_optimizado.pkl existe.\n"
                    ]
                }
            ],
            "source": [
                "# Your code here\n",
                "import os\n",
                "\n",
                "# Ruta al archivo del modelo\n",
                "model_path = \"/workspaces/Proyecto_Deep_Learning_Flask_Jorge3127/models/modelo_adaboost_optimizado.pkl\"\n",
                "\n",
                "\n",
                "# Verificar la existencia del archivo\n",
                "if os.path.exists(model_path):\n",
                "    print(f\"El archivo {model_path} existe.\")\n",
                "else:\n",
                "    print(f\"El archivo {model_path} NO existe.\")\n"
            ]
        },
        {
            "cell_type": "code",
            "execution_count": 2,
            "metadata": {},
            "outputs": [
                {
                    "name": "stdout",
                    "output_type": "stream",
                    "text": [
                        "Archivos en el directorio:\n",
                        "modelo_adaboost_optimizado.pkl\n",
                        ".gitkeep\n"
                    ]
                }
            ],
            "source": [
                "import os\n",
                "\n",
                "# Ruta al directorio\n",
                "directory_path = \"/workspaces/Proyecto_Deep_Learning_Flask_Jorge3127/models\"\n",
                "\n",
                "# Verificar la existencia del directorio\n",
                "if os.path.exists(directory_path) and os.path.isdir(directory_path):\n",
                "    # Obtener la lista de archivos en el directorio\n",
                "    files = os.listdir(directory_path)\n",
                "    \n",
                "    if files:\n",
                "        print(\"Archivos en el directorio:\")\n",
                "        for file_name in files:\n",
                "            print(file_name)\n",
                "    else:\n",
                "        print(\"El directorio está vacío.\")\n",
                "else:\n",
                "    print(f\"El directorio {directory_path} no existe o no es un directorio.\")\n"
            ]
        }
    ],
    "metadata": {
        "kernelspec": {
            "display_name": "Python 3",
            "language": "python",
            "name": "python3"
        },
        "language_info": {
            "codemirror_mode": {
                "name": "ipython",
                "version": 3
            },
            "file_extension": ".py",
            "mimetype": "text/x-python",
            "name": "python",
            "nbconvert_exporter": "python",
            "pygments_lexer": "ipython3",
            "version": "3.10.12"
        },
        "orig_nbformat": 4
    },
    "nbformat": 4,
    "nbformat_minor": 2
}
