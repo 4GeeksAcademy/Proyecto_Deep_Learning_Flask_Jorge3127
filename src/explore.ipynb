{
    "cells": [
        {
            "cell_type": "markdown",
            "metadata": {},
            "source": [
                "# Explore here"
            ]
        },
        {
            "cell_type": "code",
            "execution_count": 2,
            "metadata": {},
            "outputs": [
                {
                    "name": "stdout",
                    "output_type": "stream",
                    "text": [
                        " * Serving Flask app '__main__'\n",
                        " * Debug mode: on\n"
                    ]
                },
                {
                    "name": "stderr",
                    "output_type": "stream",
                    "text": [
                        "/home/vscode/.local/lib/python3.10/site-packages/sklearn/base.py:376: InconsistentVersionWarning: Trying to unpickle estimator AdaBoostClassifier from version 1.6.0 when using version 1.5.2. This might lead to breaking code or invalid results. Use at your own risk. For more info please refer to:\n",
                        "https://scikit-learn.org/stable/model_persistence.html#security-maintainability-limitations\n",
                        "  warnings.warn(\n",
                        "\u001b[31m\u001b[1mWARNING: This is a development server. Do not use it in a production deployment. Use a production WSGI server instead.\u001b[0m\n",
                        " * Running on http://127.0.0.1:5000\n",
                        "\u001b[33mPress CTRL+C to quit\u001b[0m\n",
                        " * Restarting with stat\n",
                        "Traceback (most recent call last):\n",
                        "  File \"/usr/local/lib/python3.10/runpy.py\", line 196, in _run_module_as_main\n",
                        "    return _run_code(code, main_globals, None,\n",
                        "  File \"/usr/local/lib/python3.10/runpy.py\", line 86, in _run_code\n",
                        "    exec(code, run_globals)\n",
                        "  File \"/home/vscode/.local/lib/python3.10/site-packages/ipykernel_launcher.py\", line 18, in <module>\n",
                        "    app.launch_new_instance()\n",
                        "  File \"/home/vscode/.local/lib/python3.10/site-packages/traitlets/config/application.py\", line 1074, in launch_instance\n",
                        "    app.initialize(argv)\n",
                        "  File \"/home/vscode/.local/lib/python3.10/site-packages/traitlets/config/application.py\", line 118, in inner\n",
                        "    return method(app, *args, **kwargs)\n",
                        "  File \"/home/vscode/.local/lib/python3.10/site-packages/ipykernel/kernelapp.py\", line 692, in initialize\n",
                        "    self.init_sockets()\n",
                        "  File \"/home/vscode/.local/lib/python3.10/site-packages/ipykernel/kernelapp.py\", line 331, in init_sockets\n",
                        "    self.shell_port = self._bind_socket(self.shell_socket, self.shell_port)\n",
                        "  File \"/home/vscode/.local/lib/python3.10/site-packages/ipykernel/kernelapp.py\", line 253, in _bind_socket\n",
                        "    return self._try_bind_socket(s, port)\n",
                        "  File \"/home/vscode/.local/lib/python3.10/site-packages/ipykernel/kernelapp.py\", line 229, in _try_bind_socket\n",
                        "    s.bind(\"tcp://%s:%i\" % (self.ip, port))\n",
                        "  File \"/home/vscode/.local/lib/python3.10/site-packages/zmq/sugar/socket.py\", line 317, in bind\n",
                        "    super().bind(addr)\n",
                        "  File \"_zmq.py\", line 917, in zmq.backend.cython._zmq.Socket.bind\n",
                        "  File \"_zmq.py\", line 179, in zmq.backend.cython._zmq._check_rc\n",
                        "zmq.error.ZMQError: Address already in use (addr='tcp://127.0.0.1:9010')\n"
                    ]
                },
                {
                    "ename": "SystemExit",
                    "evalue": "1",
                    "output_type": "error",
                    "traceback": [
                        "An exception has occurred, use %tb to see the full traceback.\n",
                        "\u001b[0;31mSystemExit\u001b[0m\u001b[0;31m:\u001b[0m 1\n"
                    ]
                },
                {
                    "name": "stderr",
                    "output_type": "stream",
                    "text": [
                        "/home/vscode/.local/lib/python3.10/site-packages/IPython/core/interactiveshell.py:3587: UserWarning: To exit: use 'exit', 'quit', or Ctrl-D.\n",
                        "  warn(\"To exit: use 'exit', 'quit', or Ctrl-D.\", stacklevel=1)\n"
                    ]
                }
            ],
            "source": [
                "# Your code here\n",
                "from flask import Flask, request, render_template\n",
                "from pickle import load\n",
                "import os\n",
                "from sklearn.ensemble import AdaBoostClassifier, AdaBoostRegressor\n",
                "\n",
                "app = Flask(__name__)\n",
                "\n",
                "# Ruta al archivo del modelo\n",
                "model_path = \"/workspaces/Proyecto_Deep_Learning_Flask_Jorge3127/models/modelo_adaboost_optimizado_corrido.pkl\"\n",
                "\n",
                "\n",
                "# Verificar la existencia del archivo del modelo\n",
                "if not os.path.exists(model_path):\n",
                "    raise FileNotFoundError(f\"El archivo {model_path} no existe\")\n",
                "\n",
                "# Cargar el modelo\n",
                "with open(model_path, \"rb\") as f:\n",
                "    model = load(f)\n",
                "\n",
                "# Verificar el tipo de modelo\n",
                "if not isinstance(model, (AdaBoostClassifier, AdaBoostRegressor)):\n",
                "    raise TypeError(\"El archivo cargado no es un modelo AdaBoost válido.\")\n",
                "\n",
                "# Diccionario de clases\n",
                "class_dict = {\n",
                "    \"0\": \"Diabético\",\n",
                "    \"1\": \"No Diabético\",\n",
                "}\n",
                "\n",
                "@app.route(\"/\", methods=[\"GET\", \"POST\"])\n",
                "def index():\n",
                "    pred_class = None\n",
                "\n",
                "    if request.method == \"POST\":\n",
                "        try:\n",
                "            # Obtener valores del formulario\n",
                "            val1 = float(request.form[\"embarazos\"])\n",
                "            val2 = float(request.form[\"glucosa\"])\n",
                "            val3 = float(request.form[\"insulina\"])\n",
                "            val4 = float(request.form[\"bmi\"])\n",
                "            val5 = float(request.form[\"diabetes\"])\n",
                "            val6 = float(request.form[\"edad\"])\n",
                "\n",
                "            # Crear un array para la predicción\n",
                "            data = [[val1, val2, val3, val4, val5, val6]]\n",
                "\n",
                "            # Realizar la predicción\n",
                "            prediction = str(model.predict(data)[0])\n",
                "            pred_class = class_dict.get(prediction, \"Clase desconocida\")\n",
                "\n",
                "        except Exception as e:\n",
                "            pred_class = f\"Error en la predicción: {e}\"\n",
                "\n",
                "    return render_template(\"formulario.html\", prediction=pred_class)\n",
                "\n",
                "if __name__ == \"__main__\":\n",
                "    app.run(debug=True)\n"
            ]
        },
        {
            "cell_type": "code",
            "execution_count": 4,
            "metadata": {},
            "outputs": [
                {
                    "name": "stdout",
                    "output_type": "stream",
                    "text": [
                        "Archivos en el directorio:\n",
                        "modelo_adaboost_optimizado_corrido.pkl\n"
                    ]
                }
            ],
            "source": [
                "import os\n",
                "\n",
                "# Ruta al directorio\n",
                "directory_path = \"/workspaces/Proyecto_Deep_Learning_Flask_Jorge3127/models\"\n",
                "\n",
                "# Verificar la existencia del directorio\n",
                "if os.path.exists(directory_path) and os.path.isdir(directory_path):\n",
                "    # Obtener la lista de archivos en el directorio\n",
                "    files = os.listdir(directory_path)\n",
                "    \n",
                "    if files:\n",
                "        print(\"Archivos en el directorio:\")\n",
                "        for file_name in files:\n",
                "            print(file_name)\n",
                "    else:\n",
                "        print(\"El directorio está vacío.\")\n",
                "else:\n",
                "    print(f\"El directorio {directory_path} no existe o no es un directorio.\")\n"
            ]
        }
    ],
    "metadata": {
        "kernelspec": {
            "display_name": "Python 3",
            "language": "python",
            "name": "python3"
        },
        "language_info": {
            "codemirror_mode": {
                "name": "ipython",
                "version": 3
            },
            "file_extension": ".py",
            "mimetype": "text/x-python",
            "name": "python",
            "nbconvert_exporter": "python",
            "pygments_lexer": "ipython3",
            "version": "3.10.12"
        },
        "orig_nbformat": 4
    },
    "nbformat": 4,
    "nbformat_minor": 2
}
